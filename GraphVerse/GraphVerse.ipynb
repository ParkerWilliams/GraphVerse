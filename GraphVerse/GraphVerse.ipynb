{
 "cells": [
  {
   "cell_type": "markdown",
   "metadata": {},
   "source": [
    "# GraphVerse Demonstration\n",
    "\n",
    "This notebook demonstrates the usage of the GraphVerse library, which combines random graph generation with a simple Language Model (LLM) to analyze and generate walk sequences on graphs."
   ]
  },
  {
   "cell_type": "code",
   "execution_count": null,
   "metadata": {},
   "outputs": [],
   "source": [
    "%pip uninstall torch\n",
    "%pip uninstall torchvision"
   ]
  },
  {
   "cell_type": "code",
   "execution_count": null,
   "metadata": {},
   "outputs": [],
   "source": [
    "pip install torch==1.5.0+cpu torchvision==0.6.0+cpu -f"
   ]
  },
  {
   "cell_type": "code",
   "execution_count": null,
   "metadata": {},
   "outputs": [],
   "source": [
    "%reset -f"
   ]
  },
  {
   "cell_type": "code",
   "execution_count": null,
   "metadata": {},
   "outputs": [],
   "source": [
    "# Install the GraphVerse package (uncomment if not already installed)\n",
    "# !pip install GraphVerse"
   ]
  },
  {
   "cell_type": "code",
   "execution_count": null,
   "metadata": {},
   "outputs": [],
   "source": [
    "import graphverse\n",
    "import networkx as nx\n",
    "import matplotlib.pyplot as plt\n",
    "\n",
    "# Set random seed for reproducibility\n",
    "import random\n",
    "import torch\n",
    "random.seed(42)\n",
    "torch.manual_seed(42)"
   ]
  },
  {
   "cell_type": "markdown",
   "metadata": {},
   "source": [
    "## 1. Generate a Graph"
   ]
  },
  {
   "cell_type": "code",
   "execution_count": null,
   "metadata": {},
   "outputs": [],
   "source": [
    "n = 1000  # Number of vertices\n",
    "G = graphverse.graph_generator.graph_generation.generate_interesting_graph(n)\n",
    "graphverse.graph_generator.vertex_designation.designate_special_vertices(G)\n",
    "\n",
    "print(f\"Graph generated with {G.number_of_nodes()} nodes and {G.number_of_edges()} edges\")\n",
    "\n",
    "# Visualize a small subgraph\n",
    "subgraph_nodes = list(G.nodes())[:20]  # First 20 nodes\n",
    "subgraph = G.subgraph(subgraph_nodes)\n",
    "pos = nx.spring_layout(subgraph)\n",
    "nx.draw(subgraph, pos, with_labels=True, node_color='lightblue', node_size=500, font_size=10)\n",
    "plt.title(\"Subgraph of the Generated Graph\")\n",
    "plt.show()"
   ]
  },
  {
   "cell_type": "markdown",
   "metadata": {},
   "source": [
    "## 2. Generate Random Walks"
   ]
  },
  {
   "cell_type": "code",
   "execution_count": null,
   "metadata": {},
   "outputs": [],
   "source": [
    "num_walks = 10000\n",
    "walks = []\n",
    "violating_walks = []\n",
    "\n",
    "for i in range(num_walks):\n",
    "    start = random.randint(0, n-1)\n",
    "    walk, rule_violated, violation_details = graphverse.graph_generator.random_walks.random_walk(G, start)\n",
    "    walks.append(walk)\n",
    "    if rule_violated:\n",
    "        violating_walks.append((i, walk, violation_details))\n",
    "\n",
    "print(f\"Generated {len(walks)} walks\")\n",
    "print(f\"Number of walks violating rules: {len(violating_walks)}\")\n",
    "\n",
    "# Display a few sample walks\n",
    "print(\"\\nSample walks:\")\n",
    "for i in range(5):\n",
    "    print(f\"Walk {i}: {walks[i][:10]}... (length: {len(walks[i])})\")"
   ]
  },
  {
   "cell_type": "markdown",
   "metadata": {},
   "source": [
    "## 3. Train LLM on Walk Sequences"
   ]
  },
  {
   "cell_type": "code",
   "execution_count": null,
   "metadata": {},
   "outputs": [],
   "source": [
    "model = graphverse.llm.training.train_llm(walks, n, epochs=5)\n",
    "print(\"LLM training completed\")"
   ]
  },
  {
   "cell_type": "markdown",
   "metadata": {},
   "source": [
    "## 4. Generate Sequences Using Trained LLM"
   ]
  },
  {
   "cell_type": "code",
   "execution_count": null,
   "metadata": {},
   "outputs": [],
   "source": [
    "num_sequences = 1000\n",
    "max_length = 50\n",
    "generated_sequences = []\n",
    "\n",
    "for _ in range(num_sequences):\n",
    "    start = [random.randint(0, n-1) for _ in range(5)]  # 5-vertex prompt\n",
    "    generated_sequences.append(graphverse.llm.inference.generate_sequence(model, start, max_length))\n",
    "\n",
    "print(f\"Generated {len(generated_sequences)} sequences\")\n",
    "print(\"\\nSample generated sequences:\")\n",
    "for i in range(5):\n",
    "    print(f\"Sequence {i}: {generated_sequences[i][:10]}... (length: {len(generated_sequences[i])})\")"
   ]
  },
  {
   "cell_type": "markdown",
   "metadata": {},
   "source": [
    "## 5. Analyze LLM Output for Errors"
   ]
  },
  {
   "cell_type": "code",
   "execution_count": null,
   "metadata": {},
   "outputs": [],
   "source": [
    "ascenders = [v for v, data in G.nodes(data=True) if data.get('special') == 'ascender']\n",
    "descenders = [v for v, data in G.nodes(data=True) if data.get('special') == 'descender']\n",
    "\n",
    "invalid_edges, rule_violations = graphverse.analysis.analyze_llm_output(G, generated_sequences, ascenders, descenders)\n",
    "\n",
    "print(f\"Total generated edges: {sum(len(seq)-1 for seq in generated_sequences)}\")\n",
    "print(f\"Invalid edges: {invalid_edges}\")\n",
    "print(f\"Rule violations: {rule_violations}\")\n",
    "\n",
    "invalid_edge_rate = invalid_edges / sum(len(seq)-1 for seq in generated_sequences)\n",
    "rule_violation_rate = rule_violations / sum(len(seq)-1 for seq in generated_sequences)\n",
    "\n",
    "print(f\"\\nInvalid edge rate: {invalid_edge_rate:.2%}\")\n",
    "print(f\"Rule violation rate: {rule_violation_rate:.2%}\")"
   ]
  },
  {
   "cell_type": "markdown",
   "metadata": {},
   "source": [
    "## Conclusion\n",
    "\n",
    "This notebook demonstrated the use of the GraphVerse library to generate a random graph, create random walks, train an LLM on these walks, and analyze the LLM's output for errors. The error rates provide insight into how well the LLM has learned the structure of the graph and the special vertex rules."
   ]
  }
 ],
 "metadata": {
  "kernelspec": {
   "display_name": "Python 3 (ipykernel)",
   "language": "python",
   "name": "python3"
  },
  "language_info": {
   "codemirror_mode": {
    "name": "ipython",
    "version": 3
   },
   "file_extension": ".py",
   "mimetype": "text/x-python",
   "name": "python",
   "nbconvert_exporter": "python",
   "pygments_lexer": "ipython3",
   "version": "3.11.4"
  }
 },
 "nbformat": 4,
 "nbformat_minor": 4
}
