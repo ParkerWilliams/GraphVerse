{
 "cells": [
  {
   "cell_type": "code",
   "execution_count": 1,
   "metadata": {
    "id": "6VJTU-lLb7DA"
   },
   "outputs": [
    {
     "name": "stdout",
     "output_type": "stream",
     "text": [
      "Current Working Directory: C:\\Users\\parke\\Repos\\GraphVerse\\GraphVerse\n",
      "Found existing installation: GraphVerse 0.1\n",
      "Uninstalling GraphVerse-0.1:\n"
     ]
    },
    {
     "name": "stderr",
     "output_type": "stream",
     "text": [
      "DEPRECATION: Loading egg at c:\\programdata\\anaconda3\\lib\\site-packages\\graphverse-0.1-py3.11.egg is deprecated. pip 23.3 will enforce this behaviour change. A possible replacement is to use pip for package installation..\n",
      "ERROR: Exception:\n",
      "Traceback (most recent call last):\n",
      "  File \"C:\\ProgramData\\anaconda3\\Lib\\shutil.py\", line 825, in move\n",
      "    os.rename(src, real_dst)\n",
      "PermissionError: [WinError 5] Access is denied: 'c:\\\\programdata\\\\anaconda3\\\\lib\\\\site-packages\\\\graphverse-0.1-py3.11.egg' -> 'C:\\\\Users\\\\parke\\\\AppData\\\\Local\\\\Temp\\\\pip-uninstall-z_1rhtg9\\\\graphverse-0.1-py3.11.egg'\n",
      "\n",
      "During handling of the above exception, another exception occurred:\n",
      "\n",
      "Traceback (most recent call last):\n",
      "  File \"C:\\ProgramData\\anaconda3\\Lib\\site-packages\\pip\\_internal\\cli\\base_command.py\", line 180, in exc_logging_wrapper\n",
      "    status = run_func(*args)\n",
      "             ^^^^^^^^^^^^^^^\n",
      "  File \"C:\\ProgramData\\anaconda3\\Lib\\site-packages\\pip\\_internal\\commands\\uninstall.py\", line 105, in run\n",
      "    uninstall_pathset = req.uninstall(\n",
      "                        ^^^^^^^^^^^^^^\n",
      "  File \"C:\\ProgramData\\anaconda3\\Lib\\site-packages\\pip\\_internal\\req\\req_install.py\", line 687, in uninstall\n",
      "    uninstalled_pathset.remove(auto_confirm, verbose)\n",
      "  File \"C:\\ProgramData\\anaconda3\\Lib\\site-packages\\pip\\_internal\\req\\req_uninstall.py\", line 381, in remove\n",
      "    moved.stash(path)\n",
      "  File \"C:\\ProgramData\\anaconda3\\Lib\\site-packages\\pip\\_internal\\req\\req_uninstall.py\", line 272, in stash\n",
      "    renames(path, new_path)\n",
      "  File \"C:\\ProgramData\\anaconda3\\Lib\\site-packages\\pip\\_internal\\utils\\misc.py\", line 315, in renames\n",
      "    shutil.move(old, new)\n",
      "  File \"C:\\ProgramData\\anaconda3\\Lib\\shutil.py\", line 846, in move\n",
      "    os.unlink(src)\n",
      "PermissionError: [WinError 5] Access is denied: 'c:\\\\programdata\\\\anaconda3\\\\lib\\\\site-packages\\\\graphverse-0.1-py3.11.egg'\n"
     ]
    },
    {
     "name": "stdout",
     "output_type": "stream",
     "text": [
      "Defaulting to user installation because normal site-packages is not writeable\n",
      "Obtaining file:///C:/Users/parke/Repos/GraphVerse/GraphVerse\n",
      "  Preparing metadata (setup.py): started\n",
      "  Preparing metadata (setup.py): finished with status 'done'\n",
      "Requirement already satisfied: networkx in c:\\programdata\\anaconda3\\lib\\site-packages (from GraphVerse==0.1) (3.1)\n",
      "Requirement already satisfied: numpy in c:\\programdata\\anaconda3\\lib\\site-packages (from GraphVerse==0.1) (1.24.3)\n",
      "Requirement already satisfied: torch in c:\\programdata\\anaconda3\\lib\\site-packages\\torch-2.4.0-py3.11-win-amd64.egg (from GraphVerse==0.1) (2.4.0)\n",
      "Requirement already satisfied: filelock in c:\\programdata\\anaconda3\\lib\\site-packages (from torch->GraphVerse==0.1) (3.9.0)\n",
      "Requirement already satisfied: typing-extensions>=4.8.0 in c:\\programdata\\anaconda3\\lib\\site-packages\\typing_extensions-4.12.2-py3.11.egg (from torch->GraphVerse==0.1) (4.12.2)\n",
      "Requirement already satisfied: sympy in c:\\programdata\\anaconda3\\lib\\site-packages (from torch->GraphVerse==0.1) (1.11.1)\n",
      "Requirement already satisfied: jinja2 in c:\\programdata\\anaconda3\\lib\\site-packages (from torch->GraphVerse==0.1) (3.1.2)\n",
      "Requirement already satisfied: fsspec in c:\\programdata\\anaconda3\\lib\\site-packages (from torch->GraphVerse==0.1) (2023.3.0)\n",
      "Requirement already satisfied: MarkupSafe>=2.0 in c:\\programdata\\anaconda3\\lib\\site-packages (from jinja2->torch->GraphVerse==0.1) (2.1.1)\n",
      "Requirement already satisfied: mpmath>=0.19 in c:\\programdata\\anaconda3\\lib\\site-packages (from sympy->torch->GraphVerse==0.1) (1.3.0)\n",
      "Installing collected packages: GraphVerse\n",
      "  Running setup.py develop for GraphVerse\n",
      "Successfully installed GraphVerse-0.1\n"
     ]
    },
    {
     "name": "stderr",
     "output_type": "stream",
     "text": [
      "DEPRECATION: Loading egg at c:\\programdata\\anaconda3\\lib\\site-packages\\graphverse-0.1-py3.11.egg is deprecated. pip 23.3 will enforce this behaviour change. A possible replacement is to use pip for package installation..\n",
      "DEPRECATION: Loading egg at c:\\programdata\\anaconda3\\lib\\site-packages\\torch-2.4.0-py3.11-win-amd64.egg is deprecated. pip 23.3 will enforce this behaviour change. A possible replacement is to use pip for package installation..\n",
      "DEPRECATION: Loading egg at c:\\programdata\\anaconda3\\lib\\site-packages\\typing_extensions-4.12.2-py3.11.egg is deprecated. pip 23.3 will enforce this behaviour change. A possible replacement is to use pip for package installation..\n"
     ]
    }
   ],
   "source": [
    "# Install GraphVerse (uncomment if not already installed)\n",
    "import sys\n",
    "import os\n",
    "sys.path.append('.')\n",
    "print(\"Current Working Directory:\", os.getcwd())\n",
    "!pip uninstall graphverse -y\n",
    "!pip install -e ."
   ]
  },
  {
   "cell_type": "code",
   "execution_count": 2,
   "metadata": {},
   "outputs": [
    {
     "ename": "ModuleNotFoundError",
     "evalue": "No module named 'graphverse.main'",
     "output_type": "error",
     "traceback": [
      "\u001b[1;31m---------------------------------------------------------------------------\u001b[0m",
      "\u001b[1;31mModuleNotFoundError\u001b[0m                       Traceback (most recent call last)",
      "Cell \u001b[1;32mIn[2], line 1\u001b[0m\n\u001b[1;32m----> 1\u001b[0m \u001b[38;5;28;01mfrom\u001b[39;00m \u001b[38;5;21;01mgraphverse\u001b[39;00m\u001b[38;5;21;01m.\u001b[39;00m\u001b[38;5;21;01mmain\u001b[39;00m \u001b[38;5;28;01mimport\u001b[39;00m run_simulation\n",
      "\u001b[1;31mModuleNotFoundError\u001b[0m: No module named 'graphverse.main'"
     ]
    }
   ],
   "source": [
    "from graphverse.main import run_simulation"
   ]
  },
  {
   "cell_type": "markdown",
   "metadata": {
    "id": "8YNt7dxLb7DA"
   },
   "source": [
    "# GraphVerse Demonstration\n",
    "\n",
    "This notebook demonstrates the usage of the GraphVerse library, which combines random graph generation with a simple Language Model (LLM) to analyze and generate walk sequences on graphs."
   ]
  },
  {
   "cell_type": "code",
   "execution_count": null,
   "metadata": {
    "colab": {
     "base_uri": "https://localhost:8080/",
     "height": 350
    },
    "id": "A2LZcKpLb7DB",
    "outputId": "0d0fedd9-6151-4dc6-e38b-5be9471b2ce3"
   },
   "outputs": [],
   "source": [
    "from graphverse import run_simulation\n",
    "import networkx as nx\n",
    "import matplotlib.pyplot as plt"
   ]
  },
  {
   "cell_type": "markdown",
   "metadata": {
    "id": "ZsFYlu__b7DB"
   },
   "source": [
    "## Run the Simulation\n",
    "\n",
    "We'll now run the simulation with a smaller graph for demonstration purposes. This will generate a graph, perform random walks, train an LLM, and analyze its output."
   ]
  },
  {
   "cell_type": "code",
   "execution_count": null,
   "metadata": {
    "id": "Ty0VvnTjb7DB"
   },
   "outputs": [],
   "source": [
    "n = 1000  # Number of vertices\n",
    "num_walks = 10000  # Number of random walks\n",
    "llm_training_epochs = 5  # Number of training epochs for the LLM\n",
    "\n",
    "results = run_simulation(n=n, num_walks=num_walks, llm_training_epochs=llm_training_epochs)\n",
    "G, walks, violating_walks, model, generated_sequences, invalid_edges, rule_violations = results"
   ]
  },
  {
   "cell_type": "markdown",
   "metadata": {
    "id": "x_Tua_Fvb7DB"
   },
   "source": [
    "## Analyze the Results"
   ]
  },
  {
   "cell_type": "code",
   "execution_count": null,
   "metadata": {
    "id": "NMPffMPYb7DB"
   },
   "outputs": [],
   "source": [
    "print(f\"Graph Information:\")\n",
    "print(f\"Number of nodes: {G.number_of_nodes()}\")\n",
    "print(f\"Number of edges: {G.number_of_edges()}\")\n",
    "print(f\"\\nRandom Walks:\")\n",
    "print(f\"Total number of walks: {len(walks)}\")\n",
    "print(f\"Number of violating walks: {len(violating_walks)}\")\n",
    "print(f\"\\nLLM Output Analysis:\")\n",
    "print(f\"Number of generated sequences: {len(generated_sequences)}\")\n",
    "print(f\"Invalid edges in generated sequences: {invalid_edges}\")\n",
    "print(f\"Rule violations in generated sequences: {rule_violations}\")\n",
    "\n",
    "# Calculate error rates\n",
    "total_edges = sum(len(seq) - 1 for seq in generated_sequences)\n",
    "invalid_edge_rate = invalid_edges / total_edges\n",
    "rule_violation_rate = rule_violations / total_edges\n",
    "\n",
    "print(f\"\\nError Rates:\")\n",
    "print(f\"Invalid edge rate: {invalid_edge_rate:.2%}\")\n",
    "print(f\"Rule violation rate: {rule_violation_rate:.2%}\")"
   ]
  },
  {
   "cell_type": "markdown",
   "metadata": {
    "id": "UtXnvqVob7DC"
   },
   "source": [
    "## Visualize a Subgraph\n",
    "\n",
    "To get a sense of the graph structure, let's visualize a small subgraph."
   ]
  },
  {
   "cell_type": "code",
   "execution_count": null,
   "metadata": {
    "id": "FdJMPslob7DC"
   },
   "outputs": [],
   "source": [
    "# Select a subgraph for visualization\n",
    "subgraph_size = 20\n",
    "subgraph_nodes = list(G.nodes())[:subgraph_size]\n",
    "subgraph = G.subgraph(subgraph_nodes)\n",
    "\n",
    "# Set up the plot\n",
    "plt.figure(figsize=(12, 8))\n",
    "pos = nx.spring_layout(subgraph)\n",
    "\n",
    "# Draw the subgraph\n",
    "nx.draw(subgraph, pos, with_labels=True, node_color='lightblue', node_size=500, font_size=10, font_weight='bold')\n",
    "\n",
    "# Highlight special nodes\n",
    "ascenders = [n for n, d in subgraph.nodes(data=True) if d.get('special') == 'ascender']\n",
    "descenders = [n for n, d in subgraph.nodes(data=True) if d.get('special') == 'descender']\n",
    "nx.draw_networkx_nodes(subgraph, pos, nodelist=ascenders, node_color='r', node_size=600)\n",
    "nx.draw_networkx_nodes(subgraph, pos, nodelist=descenders, node_color='g', node_size=600)\n",
    "\n",
    "plt.title(\"Subgraph Visualization\")\n",
    "plt.axis('off')\n",
    "plt.tight_layout()\n",
    "plt.show()\n",
    "\n",
    "print(\"Red nodes: Ascenders\")\n",
    "print(\"Green nodes: Descenders\")\n",
    "print(\"Blue nodes: Regular nodes\")"
   ]
  },
  {
   "cell_type": "code",
   "execution_count": 3,
   "metadata": {},
   "outputs": [
    {
     "ename": "ImportError",
     "evalue": "cannot import name 'run_simulation' from 'graphverse' (unknown location)",
     "output_type": "error",
     "traceback": [
      "\u001b[1;31m---------------------------------------------------------------------------\u001b[0m",
      "\u001b[1;31mImportError\u001b[0m                               Traceback (most recent call last)",
      "Cell \u001b[1;32mIn[3], line 8\u001b[0m\n\u001b[0;32m      3\u001b[0m \u001b[38;5;28;01mimport\u001b[39;00m \u001b[38;5;21;01mos\u001b[39;00m\n\u001b[0;32m      5\u001b[0m \u001b[38;5;66;03m# Add the path to your GraphVerse library if it's not installed\u001b[39;00m\n\u001b[0;32m      6\u001b[0m \u001b[38;5;66;03m# sys.path.append('/path/to/GraphVerse')\u001b[39;00m\n\u001b[1;32m----> 8\u001b[0m \u001b[38;5;28;01mfrom\u001b[39;00m \u001b[38;5;21;01mgraphverse\u001b[39;00m \u001b[38;5;28;01mimport\u001b[39;00m run_simulation\n\u001b[0;32m     10\u001b[0m \u001b[38;5;28mprint\u001b[39m(\u001b[38;5;124m\"\u001b[39m\u001b[38;5;124mSuccessfully imported run_simulation from GraphVerse\u001b[39m\u001b[38;5;124m\"\u001b[39m)\n\u001b[0;32m     12\u001b[0m \u001b[38;5;66;03m# Cell 2: Run the Simulation\u001b[39;00m\n",
      "\u001b[1;31mImportError\u001b[0m: cannot import name 'run_simulation' from 'graphverse' (unknown location)"
     ]
    }
   ],
   "source": [
    "# Cell 1: Import and Setup\n",
    "import sys\n",
    "import os\n",
    "\n",
    "# Add the path to your GraphVerse library if it's not installed\n",
    "# sys.path.append('/path/to/GraphVerse')\n",
    "\n",
    "from graphverse import run_simulation\n",
    "\n",
    "print(\"Successfully imported run_simulation from GraphVerse\")\n",
    "\n",
    "# Cell 2: Run the Simulation\n",
    "try:\n",
    "    n = 1000  # Number of vertices\n",
    "    num_walks = 10000  # Number of random walks\n",
    "    llm_training_epochs = 5\n",
    "\n",
    "    G, walks, violating_walks, model, generated_sequences, invalid_edges, rule_violations = run_simulation(\n",
    "        n=n, num_walks=num_walks, llm_training_epochs=llm_training_epochs\n",
    "    )\n",
    "    \n",
    "    print(\"Simulation completed successfully\")\n",
    "except Exception as e:\n",
    "    print(f\"An error occurred during simulation: {str(e)}\")\n",
    "\n",
    "# Cell 3: Analyze Results\n",
    "if 'G' in locals():\n",
    "    print(f\"Number of nodes in the graph: {G.number_of_nodes()}\")\n",
    "    print(f\"Number of edges in the graph: {G.number_of_edges()}\")\n",
    "    print(f\"Number of walks generated: {len(walks)}\")\n",
    "    print(f\"Number of violating walks: {len(violating_walks)}\")\n",
    "    print(f\"Number of sequences generated by LLM: {len(generated_sequences)}\")\n",
    "    print(f\"Number of invalid edges in LLM sequences: {invalid_edges}\")\n",
    "    print(f\"Number of rule violations in LLM sequences: {rule_violations}\")\n",
    "else:\n",
    "    print(\"Simulation did not complete successfully, no results to analyze.\")\n",
    "\n",
    "# Cell 4: Visualize (if NetworkX and Matplotlib are available)\n",
    "try:\n",
    "    import networkx as nx\n",
    "    import matplotlib.pyplot as plt\n",
    "\n",
    "    def visualize_subgraph(G, num_nodes=20):\n",
    "        subgraph_nodes = list(G.nodes())[:num_nodes]\n",
    "        subgraph = G.subgraph(subgraph_nodes)\n",
    "        \n",
    "        pos = nx.spring_layout(subgraph)\n",
    "        plt.figure(figsize=(12, 8))\n",
    "        nx.draw(subgraph, pos, with_labels=True, node_color='lightblue', node_size=500, font_size=10, font_weight='bold')\n",
    "        \n",
    "        special_nodes = {node: data['special'] for node, data in subgraph.nodes(data=True) if 'special' in data}\n",
    "        nx.draw_networkx_labels(subgraph, pos, special_nodes, font_color='red')\n",
    "        \n",
    "        plt.title(f\"Subgraph of {num_nodes} nodes\")\n",
    "        plt.axis('off')\n",
    "        plt.show()\n",
    "\n",
    "    if 'G' in locals():\n",
    "        visualize_subgraph(G)\n",
    "    else:\n",
    "        print(\"No graph to visualize.\")\n",
    "except ImportError:\n",
    "    print(\"NetworkX or Matplotlib not available for visualization.\")\n",
    "except Exception as e:\n",
    "    print(f\"An error occurred during visualization: {str(e)}\")"
   ]
  },
  {
   "cell_type": "markdown",
   "metadata": {
    "id": "EvzAeDqib7DC"
   },
   "source": [
    "## Conclusion\n",
    "\n",
    "This demonstration shows how GraphVerse can be used to generate a graph, perform random walks, train an LLM on these walks, and analyze the LLM's output. The error rates give us an indication of how well the LLM has learned the structure and rules of the graph.\n",
    "\n",
    "Keep in mind that the performance of the LLM can be improved by:\n",
    "1. Increasing the number of training epochs\n",
    "2. Generating more random walks for training data\n",
    "3. Adjusting the LLM architecture (e.g., increasing model size or complexity)\n",
    "\n",
    "Feel free to experiment with different parameters to see how they affect the results!"
   ]
  }
 ],
 "metadata": {
  "colab": {
   "provenance": []
  },
  "kernelspec": {
   "display_name": "Python 3 (ipykernel)",
   "language": "python",
   "name": "python3"
  },
  "language_info": {
   "codemirror_mode": {
    "name": "ipython",
    "version": 3
   },
   "file_extension": ".py",
   "mimetype": "text/x-python",
   "name": "python",
   "nbconvert_exporter": "python",
   "pygments_lexer": "ipython3",
   "version": "3.11.4"
  }
 },
 "nbformat": 4,
 "nbformat_minor": 1
}
