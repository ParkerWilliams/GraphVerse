{
 "cells": [
  {
   "cell_type": "markdown",
   "metadata": {},
   "source": [
    "# GraphVerse Demonstration\n",
    "\n",
    "This notebook demonstrates the usage of the GraphVerse library, which combines random graph generation with a simple Language Model (LLM) to analyze and generate walk sequences on graphs."
   ]
  },
  {
   "cell_type": "code",
   "execution_count": null,
   "metadata": {},
   "source": [
    "# Install GraphVerse (uncomment if not already installed)\n",
    "# !pip install GraphVerse"
   ]
  },
  {
   "cell_type": "code",
   "execution_count": null,
   "metadata": {},
   "source": [
    "from graphverse import run_simulation\n",
    "import networkx as nx\n",
    "import matplotlib.pyplot as plt"
   ]
  },
  {
   "cell_type": "markdown",
   "metadata": {},
   "source": [
    "## Run the Simulation\n",
    "\n",
    "We'll now run the simulation with a smaller graph for demonstration purposes. This will generate a graph, perform random walks, train an LLM, and analyze its output."
   ]
  },
  {
   "cell_type": "code",
   "execution_count": null,
   "metadata": {},
   "source": [
    "n = 1000  # Number of vertices\n",
    "num_walks = 10000  # Number of random walks\n",
    "llm_training_epochs = 5  # Number of training epochs for the LLM\n",
    "\n",
    "results = run_simulation(n=n, num_walks=num_walks, llm_training_epochs=llm_training_epochs)\n",
    "G, walks, violating_walks, model, generated_sequences, invalid_edges, rule_violations = results"
   ]
  },
  {
   "cell_type": "markdown",
   "metadata": {},
   "source": [
    "## Analyze the Results"
   ]
  },
  {
   "cell_type": "code",
   "execution_count": null,
   "metadata": {},
   "source": [
    "print(f\"Graph Information:\")\n",
    "print(f\"Number of nodes: {G.number_of_nodes()}\")\n",
    "print(f\"Number of edges: {G.number_of_edges()}\")\n",
    "print(f\"\\nRandom Walks:\")\n",
    "print(f\"Total number of walks: {len(walks)}\")\n",
    "print(f\"Number of violating walks: {len(violating_walks)}\")\n",
    "print(f\"\\nLLM Output Analysis:\")\n",
    "print(f\"Number of generated sequences: {len(generated_sequences)}\")\n",
    "print(f\"Invalid edges in generated sequences: {invalid_edges}\")\n",
    "print(f\"Rule violations in generated sequences: {rule_violations}\")\n",
    "\n",
    "# Calculate error rates\n",
    "total_edges = sum(len(seq) - 1 for seq in generated_sequences)\n",
    "invalid_edge_rate = invalid_edges / total_edges\n",
    "rule_violation_rate = rule_violations / total_edges\n",
    "\n",
    "print(f\"\\nError Rates:\")\n",
    "print(f\"Invalid edge rate: {invalid_edge_rate:.2%}\")\n",
    "print(f\"Rule violation rate: {rule_violation_rate:.2%}\")"
   ]
  },
  {
   "cell_type": "markdown",
   "metadata": {},
   "source": [
    "## Visualize a Subgraph\n",
    "\n",
    "To get a sense of the graph structure, let's visualize a small subgraph."
   ]
  },
  {
   "cell_type": "code",
   "execution_count": null,
   "metadata": {},
   "source": [
    "# Select a subgraph for visualization\n",
    "subgraph_size = 20\n",
    "subgraph_nodes = list(G.nodes())[:subgraph_size]\n",
    "subgraph = G.subgraph(subgraph_nodes)\n",
    "\n",
    "# Set up the plot\n",
    "plt.figure(figsize=(12, 8))\n",
    "pos = nx.spring_layout(subgraph)\n",
    "\n",
    "# Draw the subgraph\n",
    "nx.draw(subgraph, pos, with_labels=True, node_color='lightblue', node_size=500, font_size=10, font_weight='bold')\n",
    "\n",
    "# Highlight special nodes\n",
    "ascenders = [n for n, d in subgraph.nodes(data=True) if d.get('special') == 'ascender']\n",
    "descenders = [n for n, d in subgraph.nodes(data=True) if d.get('special') == 'descender']\n",
    "nx.draw_networkx_nodes(subgraph, pos, nodelist=ascenders, node_color='r', node_size=600)\n",
    "nx.draw_networkx_nodes(subgraph, pos, nodelist=descenders, node_color='g', node_size=600)\n",
    "\n",
    "plt.title(\"Subgraph Visualization\")\n",
    "plt.axis('off')\n",
    "plt.tight_layout()\n",
    "plt.show()\n",
    "\n",
    "print(\"Red nodes: Ascenders\")\n",
    "print(\"Green nodes: Descenders\")\n",
    "print(\"Blue nodes: Regular nodes\")"
   ]
  },
  {
   "cell_type": "markdown",
   "metadata": {},
   "source": [
    "## Conclusion\n",
    "\n",
    "This demonstration shows how GraphVerse can be used to generate a graph, perform random walks, train an LLM on these walks, and analyze the LLM's output. The error rates give us an indication of how well the LLM has learned the structure and rules of the graph.\n",
    "\n",
    "Keep in mind that the performance of the LLM can be improved by:\n",
    "1. Increasing the number of training epochs\n",
    "2. Generating more random walks for training data\n",
    "3. Adjusting the LLM architecture (e.g., increasing model size or complexity)\n",
    "\n",
    "Feel free to experiment with different parameters to see how they affect the results!"
   ]
  }
 ],
 "metadata": {
  "kernelspec": {
   "display_name": "Python 3",
   "language": "python",
   "name": "python3"
  },
  "language_info": {
   "codemirror_mode": {
    "name": "ipython",
    "version": 3
   },
   "file_extension": ".py",
   "mimetype": "text/x-python",
   "name": "python",
   "nbconvert_exporter": "python",
   "pygments_lexer": "ipython3",
   "version": "3.8.10"
  }
 },
 "nbformat": 4,
 "nbformat_minor": 4
}